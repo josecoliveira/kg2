{
 "cells": [
  {
   "cell_type": "code",
   "execution_count": 1,
   "metadata": {},
   "outputs": [],
   "source": [
    "%load_ext autoreload\n",
    "%autoreload 2\n",
    "\n",
    "import matplotlib.pyplot as plt\n",
    "import networkx as nx\n",
    "import pandas as pd\n",
    "from akvmodel import *\n",
    "from pgml import *"
   ]
  },
  {
   "cell_type": "code",
   "execution_count": 2,
   "metadata": {},
   "outputs": [],
   "source": [
    "def draw_graph(model: Model):\n",
    "    DG = nx.DiGraph()\n",
    "    world_size = model.worlds_size\n",
    "    DG.add_nodes_from(list(range(model.worlds_size)))\n",
    "    DG.add_weighted_edges_from(\n",
    "        [\n",
    "            (i, j, model.relation[i][j])\n",
    "            for i in range(world_size)\n",
    "            for j in range(world_size)\n",
    "            if model.relation[i][j] != 0\n",
    "        ]\n",
    "    )\n",
    "    # labels = nx.get_edge_attributes(G, \"weights\")\n",
    "    nx.draw(DG)"
   ]
  },
  {
   "cell_type": "code",
   "execution_count": 3,
   "metadata": {},
   "outputs": [],
   "source": [
    "# F(p)\n",
    "class Future(Expression):\n",
    "    def __init__(self, operand: Expression):\n",
    "        self.operand = operand\n",
    "\n",
    "    def valuation1(self, models: List[Model], world: int) -> float:\n",
    "        return max(self.operand.valuation1(model, world) for model in models)"
   ]
  },
  {
   "cell_type": "code",
   "execution_count": 4,
   "metadata": {},
   "outputs": [],
   "source": [
    "left = Box(Variable(\"p\"))\n",
    "right = Variable(\"p\")\n",
    "impl = Implication(left, right)"
   ]
  },
  {
   "cell_type": "code",
   "execution_count": 5,
   "metadata": {},
   "outputs": [],
   "source": [
    "def build_pgml_models_from_akv(akv_model):\n",
    "    # Build relation\n",
    "    relation = [\n",
    "        [akv_model.influence_graph[j][i] for j in range(NUM_AGENTS)] for i in range(NUM_AGENTS)\n",
    "    ]\n",
    "    # Remove self-loops\n",
    "    for i in range(10):\n",
    "        relation[i][i] = 0\n",
    "\n",
    "    # Create a PGML model for each step\n",
    "    pgml_models = []\n",
    "    for i in range(NUM_STEPS + 1):\n",
    "        pgml_models += [\n",
    "            Model(\n",
    "                NUM_AGENTS,\n",
    "                relation,\n",
    "                {\"p\": akv_model.states[i][0].tolist()},\n",
    "                {\"p\": akv_model.states[i][1].tolist()},\n",
    "            )\n",
    "        ]\n",
    "    \n",
    "    return pgml_models"
   ]
  },
  {
   "cell_type": "markdown",
   "metadata": {},
   "source": [
    "# Example 1: Cique, mildly polarized, classic update"
   ]
  },
  {
   "cell_type": "code",
   "execution_count": 6,
   "metadata": {},
   "outputs": [],
   "source": [
    "# Create AKV Model\n",
    "NUM_AGENTS = 10\n",
    "NUM_STEPS = 10\n",
    "akv_model = AKV(\n",
    "    belief_state=InitialConfigurations.mildly(NUM_AGENTS),\n",
    "    influence_graph=InfluenceGraphs.clique(NUM_AGENTS),\n",
    "    update_function=UpdateFunctions.classic\n",
    ")\n",
    "\n",
    "# Run AKV 100 times\n",
    "for i in range(NUM_STEPS):\n",
    "    akv_model.update()\n",
    "\n",
    "pgml_models = build_pgml_models_from_akv(akv_model)"
   ]
  },
  {
   "cell_type": "code",
   "execution_count": 7,
   "metadata": {},
   "outputs": [
    {
     "data": {
      "text/html": [
       "<div>\n",
       "<style scoped>\n",
       "    .dataframe tbody tr th:only-of-type {\n",
       "        vertical-align: middle;\n",
       "    }\n",
       "\n",
       "    .dataframe tbody tr th {\n",
       "        vertical-align: top;\n",
       "    }\n",
       "\n",
       "    .dataframe thead th {\n",
       "        text-align: right;\n",
       "    }\n",
       "</style>\n",
       "<table border=\"1\" class=\"dataframe\">\n",
       "  <thead>\n",
       "    <tr style=\"text-align: right;\">\n",
       "      <th></th>\n",
       "      <th>agent 0 valuation 1</th>\n",
       "      <th>[]p</th>\n",
       "      <th>p</th>\n",
       "      <th>[]p -&gt; p</th>\n",
       "    </tr>\n",
       "  </thead>\n",
       "  <tbody>\n",
       "    <tr>\n",
       "      <th>0</th>\n",
       "      <td>0.20</td>\n",
       "      <td>0.24</td>\n",
       "      <td>0.20</td>\n",
       "      <td>0.2</td>\n",
       "    </tr>\n",
       "    <tr>\n",
       "      <th>1</th>\n",
       "      <td>0.48</td>\n",
       "      <td>0.48</td>\n",
       "      <td>0.48</td>\n",
       "      <td>1.0</td>\n",
       "    </tr>\n",
       "    <tr>\n",
       "      <th>2</th>\n",
       "      <td>0.48</td>\n",
       "      <td>0.48</td>\n",
       "      <td>0.48</td>\n",
       "      <td>1.0</td>\n",
       "    </tr>\n",
       "    <tr>\n",
       "      <th>3</th>\n",
       "      <td>0.48</td>\n",
       "      <td>0.48</td>\n",
       "      <td>0.48</td>\n",
       "      <td>1.0</td>\n",
       "    </tr>\n",
       "    <tr>\n",
       "      <th>4</th>\n",
       "      <td>0.48</td>\n",
       "      <td>0.48</td>\n",
       "      <td>0.48</td>\n",
       "      <td>1.0</td>\n",
       "    </tr>\n",
       "    <tr>\n",
       "      <th>5</th>\n",
       "      <td>0.48</td>\n",
       "      <td>0.48</td>\n",
       "      <td>0.48</td>\n",
       "      <td>1.0</td>\n",
       "    </tr>\n",
       "    <tr>\n",
       "      <th>6</th>\n",
       "      <td>0.48</td>\n",
       "      <td>0.48</td>\n",
       "      <td>0.48</td>\n",
       "      <td>1.0</td>\n",
       "    </tr>\n",
       "    <tr>\n",
       "      <th>7</th>\n",
       "      <td>0.48</td>\n",
       "      <td>0.48</td>\n",
       "      <td>0.48</td>\n",
       "      <td>1.0</td>\n",
       "    </tr>\n",
       "    <tr>\n",
       "      <th>8</th>\n",
       "      <td>0.48</td>\n",
       "      <td>0.48</td>\n",
       "      <td>0.48</td>\n",
       "      <td>1.0</td>\n",
       "    </tr>\n",
       "    <tr>\n",
       "      <th>9</th>\n",
       "      <td>0.48</td>\n",
       "      <td>0.48</td>\n",
       "      <td>0.48</td>\n",
       "      <td>1.0</td>\n",
       "    </tr>\n",
       "    <tr>\n",
       "      <th>10</th>\n",
       "      <td>0.48</td>\n",
       "      <td>0.48</td>\n",
       "      <td>0.48</td>\n",
       "      <td>1.0</td>\n",
       "    </tr>\n",
       "  </tbody>\n",
       "</table>\n",
       "</div>"
      ],
      "text/plain": [
       "    agent 0 valuation 1   []p     p  []p -> p\n",
       "0                  0.20  0.24  0.20       0.2\n",
       "1                  0.48  0.48  0.48       1.0\n",
       "2                  0.48  0.48  0.48       1.0\n",
       "3                  0.48  0.48  0.48       1.0\n",
       "4                  0.48  0.48  0.48       1.0\n",
       "5                  0.48  0.48  0.48       1.0\n",
       "6                  0.48  0.48  0.48       1.0\n",
       "7                  0.48  0.48  0.48       1.0\n",
       "8                  0.48  0.48  0.48       1.0\n",
       "9                  0.48  0.48  0.48       1.0\n",
       "10                 0.48  0.48  0.48       1.0"
      ]
     },
     "execution_count": 7,
     "metadata": {},
     "output_type": "execute_result"
    }
   ],
   "source": [
    "n = NUM_AGENTS\n",
    "table = [\n",
    "    {\n",
    "        \"agent 0 valuation 1\": akv_model.states[t][0][0],\n",
    "        \"[]p\": left.valuation1(pgml_models[t], 0),\n",
    "        \"p\": right.valuation1(pgml_models[t], 0),\n",
    "        \"[]p -> p\": impl.valuation1(pgml_models[t], 0),\n",
    "    }\n",
    "    for t in range(NUM_STEPS + 1)\n",
    "]\n",
    "pd.DataFrame(table)"
   ]
  },
  {
   "cell_type": "code",
   "execution_count": 8,
   "metadata": {},
   "outputs": [
    {
     "data": {
      "text/plain": [
       "0.48"
      ]
     },
     "execution_count": 8,
     "metadata": {},
     "output_type": "execute_result"
    }
   ],
   "source": [
    "# F [] p\n",
    "Future(left).valuation1(pgml_models, 0)"
   ]
  },
  {
   "cell_type": "code",
   "execution_count": 9,
   "metadata": {},
   "outputs": [
    {
     "data": {
      "text/plain": [
       "0.48000000000000004"
      ]
     },
     "execution_count": 9,
     "metadata": {},
     "output_type": "execute_result"
    }
   ],
   "source": [
    "# F p\n",
    "Future(right).valuation1(pgml_models, 0)"
   ]
  },
  {
   "cell_type": "code",
   "execution_count": 10,
   "metadata": {},
   "outputs": [
    {
     "data": {
      "text/plain": [
       "1"
      ]
     },
     "execution_count": 10,
     "metadata": {},
     "output_type": "execute_result"
    }
   ],
   "source": [
    "# F([] p -> p)\n",
    "Future(impl).valuation1(pgml_models, 0)"
   ]
  },
  {
   "cell_type": "code",
   "execution_count": 11,
   "metadata": {},
   "outputs": [
    {
     "data": {
      "text/plain": [
       "1"
      ]
     },
     "execution_count": 11,
     "metadata": {},
     "output_type": "execute_result"
    }
   ],
   "source": [
    "# F [] p -> F p\n",
    "Implication(Future(left), Future(right)).valuation1(pgml_models, 0)"
   ]
  },
  {
   "cell_type": "markdown",
   "metadata": {},
   "source": [
    "# Example 2: Faintly connected, mildly polarized, classic"
   ]
  },
  {
   "cell_type": "code",
   "execution_count": 12,
   "metadata": {},
   "outputs": [],
   "source": [
    "# Create AKV Model\n",
    "NUM_AGENTS = 10\n",
    "NUM_STEPS = 100\n",
    "akv_model = AKV(\n",
    "    belief_state=InitialConfigurations.mildly(NUM_AGENTS),\n",
    "    influence_graph=InfluenceGraphs.faintly(NUM_AGENTS),\n",
    "    update_function=UpdateFunctions.classic\n",
    ")\n",
    "\n",
    "# Run AKV 100 times\n",
    "for i in range(NUM_STEPS):\n",
    "    akv_model.update()\n",
    "\n",
    "pgml_models = build_pgml_models_from_akv(akv_model)"
   ]
  },
  {
   "cell_type": "code",
   "execution_count": 13,
   "metadata": {},
   "outputs": [
    {
     "data": {
      "text/html": [
       "<div>\n",
       "<style scoped>\n",
       "    .dataframe tbody tr th:only-of-type {\n",
       "        vertical-align: middle;\n",
       "    }\n",
       "\n",
       "    .dataframe tbody tr th {\n",
       "        vertical-align: top;\n",
       "    }\n",
       "\n",
       "    .dataframe thead th {\n",
       "        text-align: right;\n",
       "    }\n",
       "</style>\n",
       "<table border=\"1\" class=\"dataframe\">\n",
       "  <thead>\n",
       "    <tr style=\"text-align: right;\">\n",
       "      <th></th>\n",
       "      <th>agent 0 valuation 1</th>\n",
       "      <th>[]p</th>\n",
       "      <th>p</th>\n",
       "      <th>[]p -&gt; p</th>\n",
       "    </tr>\n",
       "  </thead>\n",
       "  <tbody>\n",
       "    <tr>\n",
       "      <th>0</th>\n",
       "      <td>0.200000</td>\n",
       "      <td>0.240000</td>\n",
       "      <td>0.200000</td>\n",
       "      <td>0.200000</td>\n",
       "    </tr>\n",
       "    <tr>\n",
       "      <th>1</th>\n",
       "      <td>0.244000</td>\n",
       "      <td>0.272000</td>\n",
       "      <td>0.244000</td>\n",
       "      <td>0.244000</td>\n",
       "    </tr>\n",
       "    <tr>\n",
       "      <th>2</th>\n",
       "      <td>0.278800</td>\n",
       "      <td>0.298400</td>\n",
       "      <td>0.278800</td>\n",
       "      <td>0.278800</td>\n",
       "    </tr>\n",
       "    <tr>\n",
       "      <th>3</th>\n",
       "      <td>0.306760</td>\n",
       "      <td>0.320480</td>\n",
       "      <td>0.306760</td>\n",
       "      <td>0.306760</td>\n",
       "    </tr>\n",
       "    <tr>\n",
       "      <th>4</th>\n",
       "      <td>0.329572</td>\n",
       "      <td>0.339176</td>\n",
       "      <td>0.329572</td>\n",
       "      <td>0.329572</td>\n",
       "    </tr>\n",
       "    <tr>\n",
       "      <th>...</th>\n",
       "      <td>...</td>\n",
       "      <td>...</td>\n",
       "      <td>...</td>\n",
       "      <td>...</td>\n",
       "    </tr>\n",
       "    <tr>\n",
       "      <th>96</th>\n",
       "      <td>0.479992</td>\n",
       "      <td>0.479992</td>\n",
       "      <td>0.479992</td>\n",
       "      <td>0.479992</td>\n",
       "    </tr>\n",
       "    <tr>\n",
       "      <th>97</th>\n",
       "      <td>0.479993</td>\n",
       "      <td>0.479993</td>\n",
       "      <td>0.479993</td>\n",
       "      <td>0.479993</td>\n",
       "    </tr>\n",
       "    <tr>\n",
       "      <th>98</th>\n",
       "      <td>0.479993</td>\n",
       "      <td>0.479993</td>\n",
       "      <td>0.479993</td>\n",
       "      <td>1.000000</td>\n",
       "    </tr>\n",
       "    <tr>\n",
       "      <th>99</th>\n",
       "      <td>0.479994</td>\n",
       "      <td>0.479994</td>\n",
       "      <td>0.479994</td>\n",
       "      <td>1.000000</td>\n",
       "    </tr>\n",
       "    <tr>\n",
       "      <th>100</th>\n",
       "      <td>0.479995</td>\n",
       "      <td>0.479995</td>\n",
       "      <td>0.479995</td>\n",
       "      <td>1.000000</td>\n",
       "    </tr>\n",
       "  </tbody>\n",
       "</table>\n",
       "<p>101 rows × 4 columns</p>\n",
       "</div>"
      ],
      "text/plain": [
       "     agent 0 valuation 1       []p         p  []p -> p\n",
       "0               0.200000  0.240000  0.200000  0.200000\n",
       "1               0.244000  0.272000  0.244000  0.244000\n",
       "2               0.278800  0.298400  0.278800  0.278800\n",
       "3               0.306760  0.320480  0.306760  0.306760\n",
       "4               0.329572  0.339176  0.329572  0.329572\n",
       "..                   ...       ...       ...       ...\n",
       "96              0.479992  0.479992  0.479992  0.479992\n",
       "97              0.479993  0.479993  0.479993  0.479993\n",
       "98              0.479993  0.479993  0.479993  1.000000\n",
       "99              0.479994  0.479994  0.479994  1.000000\n",
       "100             0.479995  0.479995  0.479995  1.000000\n",
       "\n",
       "[101 rows x 4 columns]"
      ]
     },
     "execution_count": 13,
     "metadata": {},
     "output_type": "execute_result"
    }
   ],
   "source": [
    "n = NUM_AGENTS\n",
    "table = [\n",
    "    {\n",
    "        \"agent 0 valuation 1\": akv_model.states[t][0][0],\n",
    "        \"[]p\": left.valuation1(pgml_models[t], 0),\n",
    "        \"p\": right.valuation1(pgml_models[t], 0),\n",
    "        \"[]p -> p\": impl.valuation1(pgml_models[t], 0),\n",
    "    }\n",
    "    for t in range(NUM_STEPS + 1)\n",
    "]\n",
    "pd.DataFrame(table)"
   ]
  },
  {
   "cell_type": "code",
   "execution_count": 14,
   "metadata": {},
   "outputs": [
    {
     "data": {
      "text/plain": [
       "0.47999468772022247"
      ]
     },
     "execution_count": 14,
     "metadata": {},
     "output_type": "execute_result"
    }
   ],
   "source": [
    "# F [] p\n",
    "Future(left).valuation1(pgml_models, 0)"
   ]
  },
  {
   "cell_type": "code",
   "execution_count": 15,
   "metadata": {},
   "outputs": [
    {
     "data": {
      "text/plain": [
       "0.47999468772022247"
      ]
     },
     "execution_count": 15,
     "metadata": {},
     "output_type": "execute_result"
    }
   ],
   "source": [
    "# F p\n",
    "Future(right).valuation1(pgml_models, 0)"
   ]
  },
  {
   "cell_type": "code",
   "execution_count": 16,
   "metadata": {},
   "outputs": [
    {
     "data": {
      "text/plain": [
       "1"
      ]
     },
     "execution_count": 16,
     "metadata": {},
     "output_type": "execute_result"
    }
   ],
   "source": [
    "# F([] p -> p)\n",
    "Future(impl).valuation1(pgml_models, 0)"
   ]
  },
  {
   "cell_type": "code",
   "execution_count": 17,
   "metadata": {},
   "outputs": [
    {
     "data": {
      "text/plain": [
       "1"
      ]
     },
     "execution_count": 17,
     "metadata": {},
     "output_type": "execute_result"
    }
   ],
   "source": [
    "# F [] p -> F p\n",
    "Implication(Future(left), Future(right)).valuation1(pgml_models, 0)"
   ]
  },
  {
   "cell_type": "markdown",
   "metadata": {},
   "source": [
    "# Example 3: Disconnected, mildly polarized, classic"
   ]
  },
  {
   "cell_type": "code",
   "execution_count": 18,
   "metadata": {},
   "outputs": [],
   "source": [
    "# Create AKV Model\n",
    "NUM_AGENTS = 10\n",
    "NUM_STEPS = 100\n",
    "akv_model = AKV(\n",
    "    belief_state=InitialConfigurations.mildly(NUM_AGENTS),\n",
    "    influence_graph=InfluenceGraphs.disconnected(NUM_AGENTS),\n",
    "    update_function=UpdateFunctions.classic\n",
    ")\n",
    "\n",
    "# Run AKV 100 times\n",
    "for i in range(NUM_STEPS):\n",
    "    akv_model.update()\n",
    "\n",
    "pgml_models = build_pgml_models_from_akv(akv_model)"
   ]
  },
  {
   "cell_type": "code",
   "execution_count": 19,
   "metadata": {},
   "outputs": [
    {
     "data": {
      "text/html": [
       "<div>\n",
       "<style scoped>\n",
       "    .dataframe tbody tr th:only-of-type {\n",
       "        vertical-align: middle;\n",
       "    }\n",
       "\n",
       "    .dataframe tbody tr th {\n",
       "        vertical-align: top;\n",
       "    }\n",
       "\n",
       "    .dataframe thead th {\n",
       "        text-align: right;\n",
       "    }\n",
       "</style>\n",
       "<table border=\"1\" class=\"dataframe\">\n",
       "  <thead>\n",
       "    <tr style=\"text-align: right;\">\n",
       "      <th></th>\n",
       "      <th>agent 0 valuation 1</th>\n",
       "      <th>[]p</th>\n",
       "      <th>p</th>\n",
       "      <th>[]p -&gt; p</th>\n",
       "    </tr>\n",
       "  </thead>\n",
       "  <tbody>\n",
       "    <tr>\n",
       "      <th>0</th>\n",
       "      <td>0.200</td>\n",
       "      <td>0.2400</td>\n",
       "      <td>0.200</td>\n",
       "      <td>0.200</td>\n",
       "    </tr>\n",
       "    <tr>\n",
       "      <th>1</th>\n",
       "      <td>0.240</td>\n",
       "      <td>0.2600</td>\n",
       "      <td>0.240</td>\n",
       "      <td>0.240</td>\n",
       "    </tr>\n",
       "    <tr>\n",
       "      <th>2</th>\n",
       "      <td>0.260</td>\n",
       "      <td>0.2700</td>\n",
       "      <td>0.260</td>\n",
       "      <td>0.260</td>\n",
       "    </tr>\n",
       "    <tr>\n",
       "      <th>3</th>\n",
       "      <td>0.270</td>\n",
       "      <td>0.2750</td>\n",
       "      <td>0.270</td>\n",
       "      <td>0.270</td>\n",
       "    </tr>\n",
       "    <tr>\n",
       "      <th>4</th>\n",
       "      <td>0.275</td>\n",
       "      <td>0.2775</td>\n",
       "      <td>0.275</td>\n",
       "      <td>0.275</td>\n",
       "    </tr>\n",
       "    <tr>\n",
       "      <th>...</th>\n",
       "      <td>...</td>\n",
       "      <td>...</td>\n",
       "      <td>...</td>\n",
       "      <td>...</td>\n",
       "    </tr>\n",
       "    <tr>\n",
       "      <th>96</th>\n",
       "      <td>0.280</td>\n",
       "      <td>0.2800</td>\n",
       "      <td>0.280</td>\n",
       "      <td>1.000</td>\n",
       "    </tr>\n",
       "    <tr>\n",
       "      <th>97</th>\n",
       "      <td>0.280</td>\n",
       "      <td>0.2800</td>\n",
       "      <td>0.280</td>\n",
       "      <td>1.000</td>\n",
       "    </tr>\n",
       "    <tr>\n",
       "      <th>98</th>\n",
       "      <td>0.280</td>\n",
       "      <td>0.2800</td>\n",
       "      <td>0.280</td>\n",
       "      <td>1.000</td>\n",
       "    </tr>\n",
       "    <tr>\n",
       "      <th>99</th>\n",
       "      <td>0.280</td>\n",
       "      <td>0.2800</td>\n",
       "      <td>0.280</td>\n",
       "      <td>1.000</td>\n",
       "    </tr>\n",
       "    <tr>\n",
       "      <th>100</th>\n",
       "      <td>0.280</td>\n",
       "      <td>0.2800</td>\n",
       "      <td>0.280</td>\n",
       "      <td>1.000</td>\n",
       "    </tr>\n",
       "  </tbody>\n",
       "</table>\n",
       "<p>101 rows × 4 columns</p>\n",
       "</div>"
      ],
      "text/plain": [
       "     agent 0 valuation 1     []p      p  []p -> p\n",
       "0                  0.200  0.2400  0.200     0.200\n",
       "1                  0.240  0.2600  0.240     0.240\n",
       "2                  0.260  0.2700  0.260     0.260\n",
       "3                  0.270  0.2750  0.270     0.270\n",
       "4                  0.275  0.2775  0.275     0.275\n",
       "..                   ...     ...    ...       ...\n",
       "96                 0.280  0.2800  0.280     1.000\n",
       "97                 0.280  0.2800  0.280     1.000\n",
       "98                 0.280  0.2800  0.280     1.000\n",
       "99                 0.280  0.2800  0.280     1.000\n",
       "100                0.280  0.2800  0.280     1.000\n",
       "\n",
       "[101 rows x 4 columns]"
      ]
     },
     "execution_count": 19,
     "metadata": {},
     "output_type": "execute_result"
    }
   ],
   "source": [
    "n = NUM_AGENTS\n",
    "table = [\n",
    "    {\n",
    "        \"agent 0 valuation 1\": akv_model.states[t][0][0],\n",
    "        \"[]p\": left.valuation1(pgml_models[t], 0),\n",
    "        \"p\": right.valuation1(pgml_models[t], 0),\n",
    "        \"[]p -> p\": impl.valuation1(pgml_models[t], 0),\n",
    "    }\n",
    "    for t in range(NUM_STEPS + 1)\n",
    "]\n",
    "pd.DataFrame(table)"
   ]
  },
  {
   "cell_type": "code",
   "execution_count": 20,
   "metadata": {},
   "outputs": [
    {
     "data": {
      "text/plain": [
       "0.27999999999999997"
      ]
     },
     "execution_count": 20,
     "metadata": {},
     "output_type": "execute_result"
    }
   ],
   "source": [
    "# F [] p\n",
    "Future(left).valuation1(pgml_models, 0)"
   ]
  },
  {
   "cell_type": "code",
   "execution_count": 21,
   "metadata": {},
   "outputs": [
    {
     "data": {
      "text/plain": [
       "0.27999999999999997"
      ]
     },
     "execution_count": 21,
     "metadata": {},
     "output_type": "execute_result"
    }
   ],
   "source": [
    "# F p\n",
    "Future(right).valuation1(pgml_models, 0)"
   ]
  },
  {
   "cell_type": "code",
   "execution_count": 22,
   "metadata": {},
   "outputs": [
    {
     "data": {
      "text/plain": [
       "1"
      ]
     },
     "execution_count": 22,
     "metadata": {},
     "output_type": "execute_result"
    }
   ],
   "source": [
    "# F([] p -> p)\n",
    "Future(impl).valuation1(pgml_models, 0)"
   ]
  },
  {
   "cell_type": "code",
   "execution_count": 23,
   "metadata": {},
   "outputs": [
    {
     "data": {
      "text/plain": [
       "1"
      ]
     },
     "execution_count": 23,
     "metadata": {},
     "output_type": "execute_result"
    }
   ],
   "source": [
    "# F [] p -> F p\n",
    "Implication(Future(left), Future(right)).valuation1(pgml_models, 0)"
   ]
  }
 ],
 "metadata": {
  "kernelspec": {
   "display_name": "Python 3",
   "language": "python",
   "name": "python3"
  },
  "language_info": {
   "codemirror_mode": {
    "name": "ipython",
    "version": 3
   },
   "file_extension": ".py",
   "mimetype": "text/x-python",
   "name": "python",
   "nbconvert_exporter": "python",
   "pygments_lexer": "ipython3",
   "version": "3.10.12"
  }
 },
 "nbformat": 4,
 "nbformat_minor": 2
}
