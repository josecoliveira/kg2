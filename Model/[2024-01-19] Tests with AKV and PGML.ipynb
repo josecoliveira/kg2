{
 "cells": [
  {
   "cell_type": "code",
   "execution_count": 4,
   "metadata": {},
   "outputs": [],
   "source": [
    "from pgml import *\n",
    "from AKV import *\n",
    "import networkx as nx\n",
    "import matplotlib.pyplot as plt"
   ]
  },
  {
   "cell_type": "code",
   "execution_count": 5,
   "metadata": {},
   "outputs": [],
   "source": [
    "def draw_graph(model: Model):\n",
    "    DG = nx.DiGraph()\n",
    "    world_size = model.worlds_size\n",
    "    DG.add_nodes_from(list(range(model.worlds_size)))\n",
    "    DG.add_weighted_edges_from(\n",
    "        [\n",
    "            (i, j, model.relation[i][j])\n",
    "            for i in range(world_size)\n",
    "            for j in range(world_size)\n",
    "            if model.relation[i][j] != 0\n",
    "        ]\n",
    "    )\n",
    "    # labels = nx.get_edge_attributes(G, \"weights\")\n",
    "    nx.draw(DG)"
   ]
  },
  {
   "cell_type": "code",
   "execution_count": 6,
   "metadata": {},
   "outputs": [],
   "source": [
    "# Faintly connected graph...\n",
    "NUM_AGENTS = 10\n",
    "WEAK_INFLUENCE = 0.1\n",
    "STRONG_INFLUENCE = 0.5\n",
    "influence_graph = InfluenceGraphs.faintly(10, WEAK_INFLUENCE, STRONG_INFLUENCE)\n",
    "\n",
    "# Not necessary for faintly connected graph, but it is necessary for any non symetric graph.\n",
    "relation = [\n",
    "    [influence_graph[j][i] for j in range(NUM_AGENTS)] for i in range(NUM_AGENTS)\n",
    "]\n",
    "\n",
    "# Remove self-loops.\n",
    "for i in range(10):\n",
    "    relation[i][i] = 0\n",
    "\n",
    "# ...with mildly initial state.\n",
    "belief_array = [InitialConfigurations.mildly(NUM_AGENTS)]\n",
    "belief_array.append([1 - belief_array[0][i] for i in range(NUM_AGENTS)])\n",
    "\n",
    "# # Valuation 1 is the same as the belief_array\n",
    "# valuation1 = {\"p\": belief_array[0]}\n",
    "\n",
    "# # ...and Valuation 2 is the inverse of valuation 1 for this example.\n",
    "# valuation2 = {\"p\": belief_array[1]}\n",
    "\n",
    "# # AKV model\n",
    "# akv_model = AKV(belief_array, influence_graph)\n",
    "\n",
    "# # PGML model\n",
    "# pgml_model = Model(NUM_AGENTS, relation, valuation1, valuation2)\n",
    "\n",
    "# draw_graph(pgml_model)"
   ]
  },
  {
   "cell_type": "code",
   "execution_count": 7,
   "metadata": {},
   "outputs": [
    {
     "ename": "ValueError",
     "evalue": "all the input arrays must have same number of dimensions, but the array at index 0 has 3 dimension(s) and the array at index 1 has 2 dimension(s)",
     "output_type": "error",
     "traceback": [
      "\u001b[0;31m---------------------------------------------------------------------------\u001b[0m",
      "\u001b[0;31mValueError\u001b[0m                                Traceback (most recent call last)",
      "Input \u001b[0;32mIn [7]\u001b[0m, in \u001b[0;36m<cell line: 6>\u001b[0;34m()\u001b[0m\n\u001b[1;32m      5\u001b[0m NUM_STEPS \u001b[38;5;241m=\u001b[39m \u001b[38;5;241m10\u001b[39m\n\u001b[1;32m      6\u001b[0m \u001b[38;5;28;01mfor\u001b[39;00m i \u001b[38;5;129;01min\u001b[39;00m \u001b[38;5;28mrange\u001b[39m(NUM_STEPS):\n\u001b[0;32m----> 7\u001b[0m     \u001b[43makv_model\u001b[49m\u001b[38;5;241;43m.\u001b[39;49m\u001b[43moverall_class_update\u001b[49m\u001b[43m(\u001b[49m\u001b[43m)\u001b[49m\n\u001b[1;32m      9\u001b[0m \u001b[38;5;66;03m# Get polarization array\u001b[39;00m\n\u001b[1;32m     10\u001b[0m polarization \u001b[38;5;241m=\u001b[39m akv_model\u001b[38;5;241m.\u001b[39mget_polarization(k\u001b[38;5;241m=\u001b[39m\u001b[38;5;241m11\u001b[39m)\n",
      "File \u001b[0;32m~/projects/modal-godel-logic/Model/AKV.py:77\u001b[0m, in \u001b[0;36mAKV.overall_class_update\u001b[0;34m(self)\u001b[0m\n\u001b[1;32m     56\u001b[0m new_belief_array \u001b[38;5;241m=\u001b[39m np\u001b[38;5;241m.\u001b[39marray(\n\u001b[1;32m     57\u001b[0m     [\n\u001b[1;32m     58\u001b[0m         [\n\u001b[0;32m   (...)\u001b[0m\n\u001b[1;32m     74\u001b[0m     ]\n\u001b[1;32m     75\u001b[0m )\n\u001b[1;32m     76\u001b[0m \u001b[38;5;28mself\u001b[39m\u001b[38;5;241m.\u001b[39mbelief_array \u001b[38;5;241m=\u001b[39m new_belief_array\n\u001b[0;32m---> 77\u001b[0m \u001b[38;5;28mself\u001b[39m\u001b[38;5;241m.\u001b[39mstates \u001b[38;5;241m=\u001b[39m \u001b[43mnp\u001b[49m\u001b[38;5;241;43m.\u001b[39;49m\u001b[43mvstack\u001b[49m\u001b[43m(\u001b[49m\u001b[43m(\u001b[49m\u001b[38;5;28;43mself\u001b[39;49m\u001b[38;5;241;43m.\u001b[39;49m\u001b[43mstates\u001b[49m\u001b[43m,\u001b[49m\u001b[43m \u001b[49m\u001b[38;5;28;43mself\u001b[39;49m\u001b[38;5;241;43m.\u001b[39;49m\u001b[43mbelief_array\u001b[49m\u001b[43m)\u001b[49m\u001b[43m)\u001b[49m\n\u001b[1;32m     78\u001b[0m \u001b[38;5;28;01mreturn\u001b[39;00m \u001b[38;5;28mself\u001b[39m\u001b[38;5;241m.\u001b[39mbelief_array\n",
      "File \u001b[0;32m<__array_function__ internals>:5\u001b[0m, in \u001b[0;36mvstack\u001b[0;34m(*args, **kwargs)\u001b[0m\n",
      "File \u001b[0;32m/usr/lib/python3/dist-packages/numpy/core/shape_base.py:282\u001b[0m, in \u001b[0;36mvstack\u001b[0;34m(tup)\u001b[0m\n\u001b[1;32m    280\u001b[0m \u001b[38;5;28;01mif\u001b[39;00m \u001b[38;5;129;01mnot\u001b[39;00m \u001b[38;5;28misinstance\u001b[39m(arrs, \u001b[38;5;28mlist\u001b[39m):\n\u001b[1;32m    281\u001b[0m     arrs \u001b[38;5;241m=\u001b[39m [arrs]\n\u001b[0;32m--> 282\u001b[0m \u001b[38;5;28;01mreturn\u001b[39;00m \u001b[43m_nx\u001b[49m\u001b[38;5;241;43m.\u001b[39;49m\u001b[43mconcatenate\u001b[49m\u001b[43m(\u001b[49m\u001b[43marrs\u001b[49m\u001b[43m,\u001b[49m\u001b[43m \u001b[49m\u001b[38;5;241;43m0\u001b[39;49m\u001b[43m)\u001b[49m\n",
      "File \u001b[0;32m<__array_function__ internals>:5\u001b[0m, in \u001b[0;36mconcatenate\u001b[0;34m(*args, **kwargs)\u001b[0m\n",
      "\u001b[0;31mValueError\u001b[0m: all the input arrays must have same number of dimensions, but the array at index 0 has 3 dimension(s) and the array at index 1 has 2 dimension(s)"
     ]
    }
   ],
   "source": [
    "formula = Box(Variable(\"p\"))\n",
    "akv_model = AKV(belief_array, influence_graph)\n",
    "\n",
    "# Run AKV 10 times\n",
    "NUM_STEPS = 10\n",
    "for i in range(NUM_STEPS):\n",
    "    akv_model.overall_class_update()\n",
    "\n",
    "# Get polarization array\n",
    "polarization = akv_model.get_polarization(k=11)\n",
    "\n",
    "# Create a PGML model for each step\n",
    "pgml_models = []\n",
    "for i in range(NUM_STEPS + 1):\n",
    "    pgml_models += Model(\n",
    "        NUM_AGENTS,\n",
    "        relation,\n",
    "        {\"p\": akv_model.belief_array[i][0]},\n",
    "        {\"p\": akv_model.belief_array[i][1]},\n",
    "    )\n",
    "\n",
    "# Build table for agent\n",
    "AGENT = 0\n",
    "table = [\n",
    "    {\n",
    "        \"polarization\": polarization[i],\n",
    "        \"agent valuation1\": akv_model.belief_array[i][0],\n",
    "        \"agent valuation2\": akv_model.belief_array[i][1],\n",
    "        \"pgml valuation\": formula.valuation1(pgml_models[i], AGENT),\n",
    "    }\n",
    "    for i in range(NUM_STEPS + 1)\n",
    "]"
   ]
  },
  {
   "cell_type": "code",
   "execution_count": null,
   "metadata": {},
   "outputs": [],
   "source": []
  }
 ],
 "metadata": {
  "kernelspec": {
   "display_name": "Python 3",
   "language": "python",
   "name": "python3"
  },
  "language_info": {
   "codemirror_mode": {
    "name": "ipython",
    "version": 3
   },
   "file_extension": ".py",
   "mimetype": "text/x-python",
   "name": "python",
   "nbconvert_exporter": "python",
   "pygments_lexer": "ipython3",
   "version": "3.10.12"
  }
 },
 "nbformat": 4,
 "nbformat_minor": 2
}
