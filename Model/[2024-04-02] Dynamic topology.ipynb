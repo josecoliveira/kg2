{
 "cells": [
  {
   "cell_type": "markdown",
   "metadata": {},
   "source": [
    "# False Information"
   ]
  },
  {
   "cell_type": "code",
   "execution_count": 15,
   "metadata": {},
   "outputs": [
    {
     "name": "stdout",
     "output_type": "stream",
     "text": [
      "The autoreload extension is already loaded. To reload it, use:\n",
      "  %reload_ext autoreload\n"
     ]
    }
   ],
   "source": [
    "%load_ext autoreload\n",
    "%autoreload 2\n",
    "\n",
    "import matplotlib.pyplot as plt\n",
    "import networkx as nx\n",
    "import pandas as pd\n",
    "from akvmodel import *\n",
    "from pgml import *\n",
    "from tabulate import tabulate"
   ]
  },
  {
   "cell_type": "code",
   "execution_count": 16,
   "metadata": {},
   "outputs": [],
   "source": [
    "P = \"p\""
   ]
  },
  {
   "cell_type": "code",
   "execution_count": 17,
   "metadata": {},
   "outputs": [],
   "source": [
    "def build_pgml_models_from_akv(akv_model):\n",
    "    # Build relation\n",
    "    relation = [\n",
    "        [akv_model.influence_graph[j][i] for j in range(akv_model.number_of_agents)]\n",
    "        for i in range(akv_model.number_of_steps)\n",
    "    ]\n",
    "    # Remove self-loops\n",
    "    for i in range(10):\n",
    "        relation[i][i] = 0\n",
    "\n",
    "    # Create a PGML model for each step\n",
    "    pgml_models = []\n",
    "    for i in range(len(akv_model.states)):\n",
    "        pgml_models += [\n",
    "            Model(\n",
    "                akv_model.number_of_agents,\n",
    "                relation,\n",
    "                {\"p\": akv_model.states[i][0].tolist()},\n",
    "                {\"p\": akv_model.states[i][1].tolist()},\n",
    "            )\n",
    "        ]\n",
    "\n",
    "    return pgml_models"
   ]
  },
  {
   "cell_type": "code",
   "execution_count": 18,
   "metadata": {},
   "outputs": [],
   "source": [
    "def bd12(model, world):\n",
    "    table = [\n",
    "        [f\"v1([] p, w{world})\", Box(Variable(\"p\")).valuation1(model, world)],\n",
    "        [f\"v1(<> p, w{world})\", Diamond(Variable(\"p\")).valuation1(model, world)],\n",
    "        [f\"v2([] p, w{world})\", Box(Variable(\"p\")).valuation2(model, world)],\n",
    "        [f\"v2(<> p, w{world})\", Diamond(Variable(\"p\")).valuation2(model, world)],\n",
    "    ]\n",
    "    print(tabulate(table))"
   ]
  },
  {
   "cell_type": "markdown",
   "metadata": {},
   "source": [
    "## Example 1: Disproving information with one extra agent\n",
    "\n",
    "All agents trust each other by $0.5$ and believe the propostion by $(0.9, 0.1)$.\n",
    "Then, with one more agent that agent $0$ trusts by $1$ and that believes the proposition\n",
    "by $(0.1, 0.9)$."
   ]
  },
  {
   "cell_type": "code",
   "execution_count": 19,
   "metadata": {},
   "outputs": [
    {
     "name": "stdout",
     "output_type": "stream",
     "text": [
      "------------  ---\n",
      "v1([] p, w0)  1\n",
      "v1(<> p, w0)  0.5\n",
      "v2([] p, w0)  0.1\n",
      "v2(<> p, w0)  0.1\n",
      "------------  ---\n"
     ]
    }
   ],
   "source": [
    "num_agents = 9\n",
    "relation = [\n",
    "    [0.5 if i != j else 0 for j in range(num_agents)] for i in range(num_agents)\n",
    "]\n",
    "valuation1 = {P: [0.9 for _ in range(num_agents)]}\n",
    "valuation2 = {P: [1 - valuation1[\"p\"][i] for i in range(num_agents)]}\n",
    "model = Model(num_agents, relation, valuation1, valuation2)\n",
    "\n",
    "bd12(model, 0)"
   ]
  },
  {
   "cell_type": "code",
   "execution_count": 20,
   "metadata": {},
   "outputs": [
    {
     "name": "stdout",
     "output_type": "stream",
     "text": [
      "------------  ---\n",
      "v1([] p, w0)  0.1\n",
      "v1(<> p, w0)  0.5\n",
      "v2([] p, w0)  0.9\n",
      "v2(<> p, w0)  0.1\n",
      "------------  ---\n"
     ]
    }
   ],
   "source": [
    "num_agents = 10\n",
    "relation = [\n",
    "    [0.5 if i != j else 0 for j in range(num_agents)] for i in range(num_agents)\n",
    "]\n",
    "relation[0][9] = 1\n",
    "valuation1 = {P: [0.9 for _ in range(num_agents)]}\n",
    "valuation1[P][9] = 0.1\n",
    "valuation2 = {P: [1 - valuation1[\"p\"][i] for i in range(num_agents)]}\n",
    "model = Model(num_agents, relation, valuation1, valuation2)\n",
    "\n",
    "bd12(model, 0)"
   ]
  },
  {
   "cell_type": "markdown",
   "metadata": {},
   "source": [
    "## Example 2: Prove information with one extra agent\n",
    "\n",
    "All agents trust each other by $0.5$ and believe the propostion by $(0.1, 0.9)$.\n",
    "Then, with one more agent that agent $0$ trusts by $1$ and that believes the proposition\n",
    "by $(0.9, 0.1)$."
   ]
  },
  {
   "cell_type": "code",
   "execution_count": 21,
   "metadata": {},
   "outputs": [
    {
     "name": "stdout",
     "output_type": "stream",
     "text": [
      "------------  ---\n",
      "v1([] p, w0)  0.1\n",
      "v1(<> p, w0)  0.1\n",
      "v2([] p, w0)  0.5\n",
      "v2(<> p, w0)  1\n",
      "------------  ---\n"
     ]
    }
   ],
   "source": [
    "num_agents = 9\n",
    "relation = [\n",
    "    [0.5 if i != j else 0 for j in range(num_agents)] for i in range(num_agents)\n",
    "]\n",
    "valuation1 = {P: [0.1 for _ in range(num_agents)]}\n",
    "valuation2 = {P: [1 - valuation1[\"p\"][i] for i in range(num_agents)]}\n",
    "model = Model(num_agents, relation, valuation1, valuation2)\n",
    "\n",
    "bd12(model, 0)"
   ]
  },
  {
   "cell_type": "code",
   "execution_count": 22,
   "metadata": {},
   "outputs": [
    {
     "name": "stdout",
     "output_type": "stream",
     "text": [
      "{'p': [0.1, 0.1, 0.1, 0.1, 0.1, 0.1, 0.1, 0.1, 0.1, 0.9]}\n",
      "{'p': [0.9, 0.9, 0.9, 0.9, 0.9, 0.9, 0.9, 0.9, 0.9, 0.09999999999999998]}\n",
      "------------  ---\n",
      "v1([] p, w0)  0.1\n",
      "v1(<> p, w0)  0.9\n",
      "v2([] p, w0)  0.5\n",
      "v2(<> p, w0)  0.1\n",
      "------------  ---\n"
     ]
    }
   ],
   "source": [
    "num_agents = 10\n",
    "relation = [\n",
    "    [0.5 if i != j else 0 for j in range(num_agents)] for i in range(num_agents)\n",
    "]\n",
    "relation[0][9] = 1\n",
    "valuation1 = {P: [0.1 for _ in range(num_agents)]}\n",
    "valuation1[P][9] = 0.9\n",
    "valuation2 = {P: [1 - valuation1[P][i] for i in range(num_agents)]}\n",
    "model = Model(num_agents, relation, valuation1, valuation2)\n",
    "print(valuation1)\n",
    "print(valuation2)\n",
    "bd12(model, 0)"
   ]
  },
  {
   "cell_type": "markdown",
   "metadata": {},
   "source": [
    "## Example 3: Positively influencing uninformed agents"
   ]
  },
  {
   "cell_type": "code",
   "execution_count": 23,
   "metadata": {},
   "outputs": [
    {
     "name": "stdout",
     "output_type": "stream",
     "text": [
      "------------  -\n",
      "v1([] p, w0)  0\n",
      "v1(<> p, w0)  0\n",
      "v2([] p, w0)  0\n",
      "v2(<> p, w0)  0\n",
      "------------  -\n"
     ]
    }
   ],
   "source": [
    "num_agents = 9\n",
    "relation = [\n",
    "    [0.5 if i != j else 0 for j in range(num_agents)] for i in range(num_agents)\n",
    "]\n",
    "valuation1 = {P: [0 for _ in range(num_agents)]}\n",
    "valuation2 = {P: [0 for _ in range(num_agents)]}\n",
    "model = Model(num_agents, relation, valuation1, valuation2)\n",
    "\n",
    "bd12(model, 0)"
   ]
  },
  {
   "cell_type": "code",
   "execution_count": 32,
   "metadata": {},
   "outputs": [
    {
     "name": "stdout",
     "output_type": "stream",
     "text": [
      "------------  -\n",
      "v1([] p, w0)  0\n",
      "v1(<> p, w0)  1\n",
      "v2([] p, w0)  0\n",
      "v2(<> p, w0)  0\n",
      "------------  -\n",
      "------------  -\n",
      "v1([] p, w9)  0\n",
      "v1(<> p, w9)  0\n",
      "v2([] p, w9)  0\n",
      "v2(<> p, w9)  0\n",
      "------------  -\n"
     ]
    }
   ],
   "source": [
    "num_agents = 10\n",
    "relation = [\n",
    "    [0.5 if i != j else 0 for j in range(num_agents)] for i in range(num_agents)\n",
    "]\n",
    "for i in range(num_agents - 1):\n",
    "    relation[i][num_agents - 1] = 1\n",
    "valuation1 = {\"p\": [0 for _ in range(num_agents)]}\n",
    "valuation1[\"p\"][num_agents - 1] = 1\n",
    "valuation2 = {\"p\": [0 for _ in range(num_agents)]}\n",
    "valuation2[\"p\"][num_agents - 1] = 0\n",
    "model = Model(num_agents, relation, valuation1, valuation2)\n",
    "\n",
    "bd12(model, 0)\n",
    "bd12(model, 9)"
   ]
  },
  {
   "cell_type": "markdown",
   "metadata": {},
   "source": [
    "## Example 3: Negatively influencing uninformed agents"
   ]
  },
  {
   "cell_type": "code",
   "execution_count": 29,
   "metadata": {},
   "outputs": [
    {
     "name": "stdout",
     "output_type": "stream",
     "text": [
      "------------  -\n",
      "v1([] p, w0)  0\n",
      "v1(<> p, w0)  0\n",
      "v2([] p, w0)  0\n",
      "v2(<> p, w0)  0\n",
      "------------  -\n"
     ]
    }
   ],
   "source": [
    "num_agents = 9\n",
    "relation = [\n",
    "    [0.5 if i != j else 0 for j in range(num_agents)] for i in range(num_agents)\n",
    "]\n",
    "valuation1 = {P: [0 for _ in range(num_agents)]}\n",
    "valuation2 = {P: [0 for _ in range(num_agents)]}\n",
    "model = Model(num_agents, relation, valuation1, valuation2)\n",
    "\n",
    "bd12(model, 0)"
   ]
  },
  {
   "cell_type": "code",
   "execution_count": 33,
   "metadata": {},
   "outputs": [
    {
     "name": "stdout",
     "output_type": "stream",
     "text": [
      "------------  -\n",
      "v1([] p, w0)  0\n",
      "v1(<> p, w0)  0\n",
      "v2([] p, w0)  1\n",
      "v2(<> p, w0)  0\n",
      "------------  -\n",
      "------------  -\n",
      "v1([] p, w9)  0\n",
      "v1(<> p, w9)  0\n",
      "v2([] p, w9)  0\n",
      "v2(<> p, w9)  0\n",
      "------------  -\n"
     ]
    }
   ],
   "source": [
    "num_agents = 10\n",
    "relation = [\n",
    "    [0.5 if i != j else 0 for j in range(num_agents)] for i in range(num_agents)\n",
    "]\n",
    "for i in range(num_agents - 1):\n",
    "    relation[i][num_agents - 1] = 1\n",
    "valuation1 = {\"p\": [0 for _ in range(num_agents)]}\n",
    "valuation1[\"p\"][num_agents - 1] = 0\n",
    "valuation2 = {\"p\": [0 for _ in range(num_agents)]}\n",
    "valuation2[\"p\"][num_agents - 1] = 1\n",
    "model = Model(num_agents, relation, valuation1, valuation2)\n",
    "\n",
    "bd12(model, 0)\n",
    "bd12(model, 9)"
   ]
  },
  {
   "cell_type": "code",
   "execution_count": null,
   "metadata": {},
   "outputs": [],
   "source": []
  }
 ],
 "metadata": {
  "kernelspec": {
   "display_name": "Python 3",
   "language": "python",
   "name": "python3"
  },
  "language_info": {
   "codemirror_mode": {
    "name": "ipython",
    "version": 3
   },
   "file_extension": ".py",
   "mimetype": "text/x-python",
   "name": "python",
   "nbconvert_exporter": "python",
   "pygments_lexer": "ipython3",
   "version": "3.10.12"
  }
 },
 "nbformat": 4,
 "nbformat_minor": 2
}
